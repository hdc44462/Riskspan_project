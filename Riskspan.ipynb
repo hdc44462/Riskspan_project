{
 "cells": [
  {
   "cell_type": "code",
   "execution_count": 2,
   "metadata": {},
   "outputs": [],
   "source": [
    "import pandas as pd\n",
    "import numpy as np\n",
    "import matplotlib.pyplot as plt"
   ]
  },
  {
   "cell_type": "code",
   "execution_count": 18,
   "metadata": {},
   "outputs": [],
   "source": [
    "riskspan = pd.read_excel('C:\\\\Users\\\\dchua\\\\Desktop/Copy of RiskSpanSkillsAssessment.xlsx',sheet_name = 'Data')"
   ]
  },
  {
   "cell_type": "code",
   "execution_count": 19,
   "metadata": {},
   "outputs": [
    {
     "data": {
      "text/plain": [
       "(2000, 29)"
      ]
     },
     "execution_count": 19,
     "metadata": {},
     "output_type": "execute_result"
    }
   ],
   "source": [
    "riskspan.shape"
   ]
  },
  {
   "cell_type": "code",
   "execution_count": 20,
   "metadata": {},
   "outputs": [
    {
     "data": {
      "text/html": [
       "<div>\n",
       "<style scoped>\n",
       "    .dataframe tbody tr th:only-of-type {\n",
       "        vertical-align: middle;\n",
       "    }\n",
       "\n",
       "    .dataframe tbody tr th {\n",
       "        vertical-align: top;\n",
       "    }\n",
       "\n",
       "    .dataframe thead th {\n",
       "        text-align: right;\n",
       "    }\n",
       "</style>\n",
       "<table border=\"1\" class=\"dataframe\">\n",
       "  <thead>\n",
       "    <tr style=\"text-align: right;\">\n",
       "      <th></th>\n",
       "      <th>LOAN_NUMBER</th>\n",
       "      <th>SAMPLE_DATE</th>\n",
       "      <th>FILE_REQ_DATE</th>\n",
       "      <th>SECOND_REQUEST_DATE</th>\n",
       "      <th>SENT_TO_IMAGING_DATE</th>\n",
       "      <th>LENDER_RESPONSE_DUE_DATE</th>\n",
       "      <th>DATE_LOAN_FINALIZED</th>\n",
       "      <th>LENDER_ID</th>\n",
       "      <th>LENDER_NAME</th>\n",
       "      <th>LENDER_LOAN_ID</th>\n",
       "      <th>...</th>\n",
       "      <th>FIELD_REVIEW_VALUE_SUPPORTED</th>\n",
       "      <th>FIELD_REVIEW_VALUE</th>\n",
       "      <th>PURPOSE_CODE</th>\n",
       "      <th>OCCUPANCY_CODE</th>\n",
       "      <th>LENDER_INST_TYPE_DESCRIPTION</th>\n",
       "      <th>UNDERWRITER_NAME</th>\n",
       "      <th>REVIEW_DATE</th>\n",
       "      <th>REVIEW_STATUS</th>\n",
       "      <th>DEAL_NAME</th>\n",
       "      <th>START_DATE</th>\n",
       "    </tr>\n",
       "  </thead>\n",
       "  <tbody>\n",
       "    <tr>\n",
       "      <th>0</th>\n",
       "      <td>19457569</td>\n",
       "      <td>2010-11-22</td>\n",
       "      <td>2010-11-25</td>\n",
       "      <td>NaT</td>\n",
       "      <td>NaT</td>\n",
       "      <td>NaT</td>\n",
       "      <td>2011-01-24</td>\n",
       "      <td>ZMFHQJ</td>\n",
       "      <td>Wells Fargo Bank, N.A.</td>\n",
       "      <td>26291118</td>\n",
       "      <td>...</td>\n",
       "      <td>NaN</td>\n",
       "      <td>NaN</td>\n",
       "      <td>P</td>\n",
       "      <td>B</td>\n",
       "      <td>Bank Owned Mortgage Company - National</td>\n",
       "      <td>Mike Willams</td>\n",
       "      <td>2011-01-13</td>\n",
       "      <td>4.0</td>\n",
       "      <td>WFMBS 2006-5</td>\n",
       "      <td>2013-06-01</td>\n",
       "    </tr>\n",
       "    <tr>\n",
       "      <th>1</th>\n",
       "      <td>16864087</td>\n",
       "      <td>2012-04-03</td>\n",
       "      <td>2012-04-05</td>\n",
       "      <td>2012-04-20</td>\n",
       "      <td>NaT</td>\n",
       "      <td>NaT</td>\n",
       "      <td>2012-04-24</td>\n",
       "      <td>NXYFBZ</td>\n",
       "      <td>Wells Fargo Bank, N.A.</td>\n",
       "      <td>381247287</td>\n",
       "      <td>...</td>\n",
       "      <td>NaN</td>\n",
       "      <td>NaN</td>\n",
       "      <td>R</td>\n",
       "      <td>B</td>\n",
       "      <td>Bank Owned Mortgage Company - National</td>\n",
       "      <td>Mike Willams</td>\n",
       "      <td>2012-04-23</td>\n",
       "      <td>4.0</td>\n",
       "      <td>WFMBS 2006-AR4</td>\n",
       "      <td>2013-06-01</td>\n",
       "    </tr>\n",
       "    <tr>\n",
       "      <th>2</th>\n",
       "      <td>17137579</td>\n",
       "      <td>2012-06-27</td>\n",
       "      <td>2012-06-27</td>\n",
       "      <td>NaT</td>\n",
       "      <td>2012-07-13</td>\n",
       "      <td>NaT</td>\n",
       "      <td>2012-07-20</td>\n",
       "      <td>CKZGQU</td>\n",
       "      <td>Cobalt Mortgage Inc</td>\n",
       "      <td>38200028</td>\n",
       "      <td>...</td>\n",
       "      <td>NaN</td>\n",
       "      <td>NaN</td>\n",
       "      <td>P</td>\n",
       "      <td>B</td>\n",
       "      <td>Mortgage Banker - Bank Owned</td>\n",
       "      <td>Mike Willams</td>\n",
       "      <td>2012-07-20</td>\n",
       "      <td>4.0</td>\n",
       "      <td>WFMBS 2006-AR4</td>\n",
       "      <td>2013-06-01</td>\n",
       "    </tr>\n",
       "    <tr>\n",
       "      <th>3</th>\n",
       "      <td>20382551</td>\n",
       "      <td>2012-10-08</td>\n",
       "      <td>2012-10-11</td>\n",
       "      <td>NaT</td>\n",
       "      <td>2012-10-26</td>\n",
       "      <td>NaT</td>\n",
       "      <td>2012-12-10</td>\n",
       "      <td>DMYYBZ</td>\n",
       "      <td>McLean Mortgage Corporation</td>\n",
       "      <td>416297794</td>\n",
       "      <td>...</td>\n",
       "      <td>NaN</td>\n",
       "      <td>NaN</td>\n",
       "      <td>P</td>\n",
       "      <td>B</td>\n",
       "      <td>Mortgage Banker - Bank Owned</td>\n",
       "      <td>Eric Miller</td>\n",
       "      <td>2012-11-30</td>\n",
       "      <td>4.0</td>\n",
       "      <td>WFMBS 2006-5</td>\n",
       "      <td>2013-06-01</td>\n",
       "    </tr>\n",
       "    <tr>\n",
       "      <th>4</th>\n",
       "      <td>23078618</td>\n",
       "      <td>2012-10-04</td>\n",
       "      <td>2012-10-08</td>\n",
       "      <td>NaT</td>\n",
       "      <td>2012-10-22</td>\n",
       "      <td>NaT</td>\n",
       "      <td>2012-10-25</td>\n",
       "      <td>WIXLJR</td>\n",
       "      <td>LoanCare Servicing Center Inc</td>\n",
       "      <td>6967335</td>\n",
       "      <td>...</td>\n",
       "      <td>NaN</td>\n",
       "      <td>NaN</td>\n",
       "      <td>X</td>\n",
       "      <td>B</td>\n",
       "      <td>Mortgage Banker - (Large)</td>\n",
       "      <td>Mike Willams</td>\n",
       "      <td>2012-10-23</td>\n",
       "      <td>4.0</td>\n",
       "      <td>WFMBS 2006-5</td>\n",
       "      <td>2013-06-01</td>\n",
       "    </tr>\n",
       "  </tbody>\n",
       "</table>\n",
       "<p>5 rows × 29 columns</p>\n",
       "</div>"
      ],
      "text/plain": [
       "   LOAN_NUMBER SAMPLE_DATE FILE_REQ_DATE SECOND_REQUEST_DATE  \\\n",
       "0     19457569  2010-11-22    2010-11-25                 NaT   \n",
       "1     16864087  2012-04-03    2012-04-05          2012-04-20   \n",
       "2     17137579  2012-06-27    2012-06-27                 NaT   \n",
       "3     20382551  2012-10-08    2012-10-11                 NaT   \n",
       "4     23078618  2012-10-04    2012-10-08                 NaT   \n",
       "\n",
       "  SENT_TO_IMAGING_DATE LENDER_RESPONSE_DUE_DATE DATE_LOAN_FINALIZED LENDER_ID  \\\n",
       "0                  NaT                      NaT          2011-01-24    ZMFHQJ   \n",
       "1                  NaT                      NaT          2012-04-24    NXYFBZ   \n",
       "2           2012-07-13                      NaT          2012-07-20    CKZGQU   \n",
       "3           2012-10-26                      NaT          2012-12-10    DMYYBZ   \n",
       "4           2012-10-22                      NaT          2012-10-25    WIXLJR   \n",
       "\n",
       "                     LENDER_NAME LENDER_LOAN_ID  ...  \\\n",
       "0         Wells Fargo Bank, N.A.       26291118  ...   \n",
       "1         Wells Fargo Bank, N.A.      381247287  ...   \n",
       "2            Cobalt Mortgage Inc       38200028  ...   \n",
       "3    McLean Mortgage Corporation      416297794  ...   \n",
       "4  LoanCare Servicing Center Inc        6967335  ...   \n",
       "\n",
       "  FIELD_REVIEW_VALUE_SUPPORTED FIELD_REVIEW_VALUE PURPOSE_CODE OCCUPANCY_CODE  \\\n",
       "0                          NaN                NaN            P              B   \n",
       "1                          NaN                NaN            R              B   \n",
       "2                          NaN                NaN            P              B   \n",
       "3                          NaN                NaN            P              B   \n",
       "4                          NaN                NaN            X              B   \n",
       "\n",
       "             LENDER_INST_TYPE_DESCRIPTION  UNDERWRITER_NAME  REVIEW_DATE  \\\n",
       "0  Bank Owned Mortgage Company - National      Mike Willams   2011-01-13   \n",
       "1  Bank Owned Mortgage Company - National      Mike Willams   2012-04-23   \n",
       "2            Mortgage Banker - Bank Owned      Mike Willams   2012-07-20   \n",
       "3            Mortgage Banker - Bank Owned       Eric Miller   2012-11-30   \n",
       "4               Mortgage Banker - (Large)      Mike Willams   2012-10-23   \n",
       "\n",
       "   REVIEW_STATUS       DEAL_NAME START_DATE  \n",
       "0            4.0    WFMBS 2006-5 2013-06-01  \n",
       "1            4.0  WFMBS 2006-AR4 2013-06-01  \n",
       "2            4.0  WFMBS 2006-AR4 2013-06-01  \n",
       "3            4.0    WFMBS 2006-5 2013-06-01  \n",
       "4            4.0    WFMBS 2006-5 2013-06-01  \n",
       "\n",
       "[5 rows x 29 columns]"
      ]
     },
     "execution_count": 20,
     "metadata": {},
     "output_type": "execute_result"
    }
   ],
   "source": [
    "riskspan.head()"
   ]
  },
  {
   "cell_type": "code",
   "execution_count": 91,
   "metadata": {
    "scrolled": true
   },
   "outputs": [
    {
     "data": {
      "text/plain": [
       "LOAN_NUMBER                        0\n",
       "SAMPLE_DATE                        0\n",
       "FILE_REQ_DATE                     70\n",
       "SECOND_REQUEST_DATE             1768\n",
       "SENT_TO_IMAGING_DATE             648\n",
       "LENDER_RESPONSE_DUE_DATE        1888\n",
       "DATE_LOAN_FINALIZED              197\n",
       "LENDER_ID                          0\n",
       "LENDER_NAME                        0\n",
       "LENDER_LOAN_ID                    76\n",
       "PROP_STATE                         0\n",
       "NEW_CONSTRUCTION_INDICATOR         0\n",
       "CONDOMINIUM_INDICATOR              0\n",
       "LOAN_ORIG_DATE                    16\n",
       "CURRENT_BALANCE                    0\n",
       "FICO_SCORE                         0\n",
       "LTV                                0\n",
       "ORIG_VALUE                        54\n",
       "AVM_VALUE                       1705\n",
       "FIELD_REVIEW_VALUE_SUPPORTED    1981\n",
       "FIELD_REVIEW_VALUE              1985\n",
       "PURPOSE_CODE                       0\n",
       "OCCUPANCY_CODE                     0\n",
       "LENDER_INST_TYPE_DESCRIPTION       0\n",
       "UNDERWRITER_NAME                 222\n",
       "REVIEW_DATE                      222\n",
       "REVIEW_STATUS                    170\n",
       "DEAL_NAME                          0\n",
       "START_DATE                         0\n",
       "LTV_type                           0\n",
       "dtype: int64"
      ]
     },
     "execution_count": 91,
     "metadata": {},
     "output_type": "execute_result"
    }
   ],
   "source": [
    "riskspan.LENDER_INST_TYPE_DESCRIPTION.unique()\n",
    "riskspan.isnull().sum()"
   ]
  },
  {
   "cell_type": "code",
   "execution_count": 170,
   "metadata": {},
   "outputs": [
    {
     "data": {
      "text/plain": [
       "Mortgage Banker - Bank Owned              661\n",
       "Community Banks                           499\n",
       "Credit Unions                             374\n",
       "Mortgage Banker - (Large)                 279\n",
       "Bank Owned Mortgage Company - National    187\n",
       "Name: LENDER_INST_TYPE_DESCRIPTION, dtype: int64"
      ]
     },
     "execution_count": 170,
     "metadata": {},
     "output_type": "execute_result"
    }
   ],
   "source": [
    "riskspan.LENDER_INST_TYPE_DESCRIPTION.value_counts()"
   ]
  },
  {
   "cell_type": "code",
   "execution_count": 206,
   "metadata": {
    "scrolled": true
   },
   "outputs": [
    {
     "data": {
      "text/html": [
       "<div>\n",
       "<style scoped>\n",
       "    .dataframe tbody tr th:only-of-type {\n",
       "        vertical-align: middle;\n",
       "    }\n",
       "\n",
       "    .dataframe tbody tr th {\n",
       "        vertical-align: top;\n",
       "    }\n",
       "\n",
       "    .dataframe thead tr th {\n",
       "        text-align: left;\n",
       "    }\n",
       "\n",
       "    .dataframe thead tr:last-of-type th {\n",
       "        text-align: right;\n",
       "    }\n",
       "</style>\n",
       "<table border=\"1\" class=\"dataframe\">\n",
       "  <thead>\n",
       "    <tr>\n",
       "      <th></th>\n",
       "      <th>mean</th>\n",
       "      <th>amax</th>\n",
       "      <th>amin</th>\n",
       "    </tr>\n",
       "    <tr>\n",
       "      <th></th>\n",
       "      <th>CURRENT_BALANCE</th>\n",
       "      <th>CURRENT_BALANCE</th>\n",
       "      <th>CURRENT_BALANCE</th>\n",
       "    </tr>\n",
       "    <tr>\n",
       "      <th>LENDER_INST_TYPE_DESCRIPTION</th>\n",
       "      <th></th>\n",
       "      <th></th>\n",
       "      <th></th>\n",
       "    </tr>\n",
       "  </thead>\n",
       "  <tbody>\n",
       "    <tr>\n",
       "      <th>Bank Owned Mortgage Company - National</th>\n",
       "      <td>242899.802139</td>\n",
       "      <td>720000</td>\n",
       "      <td>43225</td>\n",
       "    </tr>\n",
       "    <tr>\n",
       "      <th>Community Banks</th>\n",
       "      <td>211839.963928</td>\n",
       "      <td>729750</td>\n",
       "      <td>28500</td>\n",
       "    </tr>\n",
       "    <tr>\n",
       "      <th>Credit Unions</th>\n",
       "      <td>175149.601604</td>\n",
       "      <td>578250</td>\n",
       "      <td>22500</td>\n",
       "    </tr>\n",
       "    <tr>\n",
       "      <th>Mortgage Banker - (Large)</th>\n",
       "      <td>260374.383513</td>\n",
       "      <td>729750</td>\n",
       "      <td>59000</td>\n",
       "    </tr>\n",
       "    <tr>\n",
       "      <th>Mortgage Banker - Bank Owned</th>\n",
       "      <td>236262.689864</td>\n",
       "      <td>625500</td>\n",
       "      <td>25018</td>\n",
       "    </tr>\n",
       "    <tr>\n",
       "      <th>All</th>\n",
       "      <td>222725.223500</td>\n",
       "      <td>729750</td>\n",
       "      <td>22500</td>\n",
       "    </tr>\n",
       "  </tbody>\n",
       "</table>\n",
       "</div>"
      ],
      "text/plain": [
       "                                                  mean            amax  \\\n",
       "                                       CURRENT_BALANCE CURRENT_BALANCE   \n",
       "LENDER_INST_TYPE_DESCRIPTION                                             \n",
       "Bank Owned Mortgage Company - National   242899.802139          720000   \n",
       "Community Banks                          211839.963928          729750   \n",
       "Credit Unions                            175149.601604          578250   \n",
       "Mortgage Banker - (Large)                260374.383513          729750   \n",
       "Mortgage Banker - Bank Owned             236262.689864          625500   \n",
       "All                                      222725.223500          729750   \n",
       "\n",
       "                                                  amin  \n",
       "                                       CURRENT_BALANCE  \n",
       "LENDER_INST_TYPE_DESCRIPTION                            \n",
       "Bank Owned Mortgage Company - National           43225  \n",
       "Community Banks                                  28500  \n",
       "Credit Unions                                    22500  \n",
       "Mortgage Banker - (Large)                        59000  \n",
       "Mortgage Banker - Bank Owned                     25018  \n",
       "All                                              22500  "
      ]
     },
     "execution_count": 206,
     "metadata": {},
     "output_type": "execute_result"
    }
   ],
   "source": [
    "riskspan.pivot_table('CURRENT_BALANCE','LENDER_INST_TYPE_DESCRIPTION',aggfunc=[np.mean,np.max,np.min], margins = True)"
   ]
  },
  {
   "cell_type": "code",
   "execution_count": 174,
   "metadata": {},
   "outputs": [
    {
     "data": {
      "text/plain": [
       "0"
      ]
     },
     "execution_count": 174,
     "metadata": {},
     "output_type": "execute_result"
    }
   ],
   "source": [
    "riskspan.LTV.isnull().sum()"
   ]
  },
  {
   "cell_type": "code",
   "execution_count": 175,
   "metadata": {},
   "outputs": [],
   "source": [
    "riskspan.loc[riskspan['LTV']<=85,'LTV_type'] = '<=85%'\n",
    "riskspan.loc[(riskspan['LTV']>85) & (riskspan['LTV']<=90),'LTV_type'] = '>85% and <= 90%'\n",
    "riskspan.loc[(riskspan['LTV']>90) & (riskspan['LTV']<=95),'LTV_type'] = '>90% and <= 95%'\n",
    "riskspan.loc[riskspan['LTV']>=95,'LTV_type'] = '>95%'"
   ]
  },
  {
   "cell_type": "code",
   "execution_count": 207,
   "metadata": {},
   "outputs": [
    {
     "data": {
      "text/plain": [
       ">85% and <= 90%    823\n",
       ">95%               592\n",
       ">90% and <= 95%    241\n",
       "<=85%              344\n",
       "Name: LTV_type, dtype: int64"
      ]
     },
     "execution_count": 207,
     "metadata": {},
     "output_type": "execute_result"
    }
   ],
   "source": [
    "riskspan.LTV_type.value_counts(sort = False)"
   ]
  },
  {
   "cell_type": "code",
   "execution_count": 205,
   "metadata": {
    "scrolled": true
   },
   "outputs": [
    {
     "data": {
      "text/html": [
       "<div>\n",
       "<style scoped>\n",
       "    .dataframe tbody tr th:only-of-type {\n",
       "        vertical-align: middle;\n",
       "    }\n",
       "\n",
       "    .dataframe tbody tr th {\n",
       "        vertical-align: top;\n",
       "    }\n",
       "\n",
       "    .dataframe thead tr th {\n",
       "        text-align: left;\n",
       "    }\n",
       "\n",
       "    .dataframe thead tr:last-of-type th {\n",
       "        text-align: right;\n",
       "    }\n",
       "</style>\n",
       "<table border=\"1\" class=\"dataframe\">\n",
       "  <thead>\n",
       "    <tr>\n",
       "      <th></th>\n",
       "      <th>mean</th>\n",
       "      <th>amax</th>\n",
       "      <th>amin</th>\n",
       "    </tr>\n",
       "    <tr>\n",
       "      <th></th>\n",
       "      <th>CURRENT_BALANCE</th>\n",
       "      <th>CURRENT_BALANCE</th>\n",
       "      <th>CURRENT_BALANCE</th>\n",
       "    </tr>\n",
       "    <tr>\n",
       "      <th>LTV_type</th>\n",
       "      <th></th>\n",
       "      <th></th>\n",
       "      <th></th>\n",
       "    </tr>\n",
       "  </thead>\n",
       "  <tbody>\n",
       "    <tr>\n",
       "      <th>&lt;=85%</th>\n",
       "      <td>223985.912791</td>\n",
       "      <td>729750</td>\n",
       "      <td>43300</td>\n",
       "    </tr>\n",
       "    <tr>\n",
       "      <th>&gt;85% and &lt;= 90%</th>\n",
       "      <td>235966.178615</td>\n",
       "      <td>729750</td>\n",
       "      <td>22500</td>\n",
       "    </tr>\n",
       "    <tr>\n",
       "      <th>&gt;90% and &lt;= 95%</th>\n",
       "      <td>222573.253112</td>\n",
       "      <td>440752</td>\n",
       "      <td>35000</td>\n",
       "    </tr>\n",
       "    <tr>\n",
       "      <th>&gt;95%</th>\n",
       "      <td>203646.915541</td>\n",
       "      <td>561700</td>\n",
       "      <td>28500</td>\n",
       "    </tr>\n",
       "    <tr>\n",
       "      <th>All</th>\n",
       "      <td>222725.223500</td>\n",
       "      <td>729750</td>\n",
       "      <td>22500</td>\n",
       "    </tr>\n",
       "  </tbody>\n",
       "</table>\n",
       "</div>"
      ],
      "text/plain": [
       "                           mean            amax            amin\n",
       "                CURRENT_BALANCE CURRENT_BALANCE CURRENT_BALANCE\n",
       "LTV_type                                                       \n",
       "<=85%             223985.912791          729750           43300\n",
       ">85% and <= 90%   235966.178615          729750           22500\n",
       ">90% and <= 95%   222573.253112          440752           35000\n",
       ">95%              203646.915541          561700           28500\n",
       "All               222725.223500          729750           22500"
      ]
     },
     "execution_count": 205,
     "metadata": {},
     "output_type": "execute_result"
    }
   ],
   "source": [
    "riskspan.pivot_table('CURRENT_BALANCE','LTV_type',aggfunc=[np.mean,np.max,np.min], margins = True)"
   ]
  },
  {
   "cell_type": "code",
   "execution_count": 178,
   "metadata": {},
   "outputs": [
    {
     "data": {
      "text/plain": [
       "16"
      ]
     },
     "execution_count": 178,
     "metadata": {},
     "output_type": "execute_result"
    }
   ],
   "source": [
    "import datetime as dt\n",
    "riskspan.dtypes\n",
    "riskspan.LOAN_ORIG_DATE.isnull().sum()"
   ]
  },
  {
   "cell_type": "code",
   "execution_count": 179,
   "metadata": {},
   "outputs": [],
   "source": [
    "riskspan['LoanAge'] =(2013-riskspan.LOAN_ORIG_DATE.dt.year)*12 + (6 - riskspan.LOAN_ORIG_DATE.dt.month )"
   ]
  },
  {
   "cell_type": "code",
   "execution_count": 196,
   "metadata": {},
   "outputs": [],
   "source": [
    "pd.to_numeric(riskspan.LoanAge)\n",
    "riskspan.LoanAge.fillna(-1,inplace = True)"
   ]
  },
  {
   "cell_type": "code",
   "execution_count": 197,
   "metadata": {},
   "outputs": [],
   "source": [
    "riskspan.loc[riskspan['LoanAge']==-1,'LoanAgetype']  = 'Unknown'\n",
    "riskspan.loc[(riskspan['LoanAge']>-1) & (riskspan['LoanAge']<=9),'LoanAgetype'] = '0-9 Months'\n",
    "riskspan.loc[(riskspan['LoanAge']>9) & (riskspan['LoanAge']<=19),'LoanAgetype'] = '10-19 Months'\n",
    "riskspan.loc[(riskspan['LoanAge']>19) & (riskspan['LoanAge']<=29),'LoanAgetype'] = '20-29 Months'\n",
    "riskspan.loc[(riskspan['LoanAge']>29) & (riskspan['LoanAge']<=39),'LoanAgetype'] = '30-39 Months'\n",
    "riskspan.loc[riskspan['LoanAge']>=40,'LoanAgetype'] = '>=40 Months'"
   ]
  },
  {
   "cell_type": "code",
   "execution_count": 198,
   "metadata": {},
   "outputs": [
    {
     "data": {
      "text/plain": [
       "0"
      ]
     },
     "execution_count": 198,
     "metadata": {},
     "output_type": "execute_result"
    }
   ],
   "source": [
    "riskspan.LoanAgetype.isnull().sum()"
   ]
  },
  {
   "cell_type": "code",
   "execution_count": 199,
   "metadata": {},
   "outputs": [
    {
     "data": {
      "text/plain": [
       "20-29 Months    564\n",
       "10-19 Months    724\n",
       "0-9 Months      242\n",
       "Unknown          16\n",
       "30-39 Months    268\n",
       ">=40 Months     186\n",
       "Name: LoanAgetype, dtype: int64"
      ]
     },
     "execution_count": 199,
     "metadata": {},
     "output_type": "execute_result"
    }
   ],
   "source": [
    "riskspan.LoanAgetype.value_counts(sort = False)"
   ]
  },
  {
   "cell_type": "code",
   "execution_count": 208,
   "metadata": {
    "scrolled": true
   },
   "outputs": [
    {
     "data": {
      "text/html": [
       "<div>\n",
       "<style scoped>\n",
       "    .dataframe tbody tr th:only-of-type {\n",
       "        vertical-align: middle;\n",
       "    }\n",
       "\n",
       "    .dataframe tbody tr th {\n",
       "        vertical-align: top;\n",
       "    }\n",
       "\n",
       "    .dataframe thead tr th {\n",
       "        text-align: left;\n",
       "    }\n",
       "\n",
       "    .dataframe thead tr:last-of-type th {\n",
       "        text-align: right;\n",
       "    }\n",
       "</style>\n",
       "<table border=\"1\" class=\"dataframe\">\n",
       "  <thead>\n",
       "    <tr>\n",
       "      <th></th>\n",
       "      <th>mean</th>\n",
       "      <th>amax</th>\n",
       "      <th>amin</th>\n",
       "    </tr>\n",
       "    <tr>\n",
       "      <th></th>\n",
       "      <th>CURRENT_BALANCE</th>\n",
       "      <th>CURRENT_BALANCE</th>\n",
       "      <th>CURRENT_BALANCE</th>\n",
       "    </tr>\n",
       "    <tr>\n",
       "      <th>LoanAgetype</th>\n",
       "      <th></th>\n",
       "      <th></th>\n",
       "      <th></th>\n",
       "    </tr>\n",
       "  </thead>\n",
       "  <tbody>\n",
       "    <tr>\n",
       "      <th>0-9 Months</th>\n",
       "      <td>233615.673554</td>\n",
       "      <td>562500</td>\n",
       "      <td>45000</td>\n",
       "    </tr>\n",
       "    <tr>\n",
       "      <th>10-19 Months</th>\n",
       "      <td>229611.947514</td>\n",
       "      <td>720000</td>\n",
       "      <td>25018</td>\n",
       "    </tr>\n",
       "    <tr>\n",
       "      <th>20-29 Months</th>\n",
       "      <td>216680.785461</td>\n",
       "      <td>729750</td>\n",
       "      <td>22500</td>\n",
       "    </tr>\n",
       "    <tr>\n",
       "      <th>30-39 Months</th>\n",
       "      <td>204076.171642</td>\n",
       "      <td>546376</td>\n",
       "      <td>41705</td>\n",
       "    </tr>\n",
       "    <tr>\n",
       "      <th>&gt;=40 Months</th>\n",
       "      <td>224049.580645</td>\n",
       "      <td>729750</td>\n",
       "      <td>35000</td>\n",
       "    </tr>\n",
       "    <tr>\n",
       "      <th>Unknown</th>\n",
       "      <td>256425.312500</td>\n",
       "      <td>404700</td>\n",
       "      <td>88065</td>\n",
       "    </tr>\n",
       "    <tr>\n",
       "      <th>All</th>\n",
       "      <td>222725.223500</td>\n",
       "      <td>729750</td>\n",
       "      <td>22500</td>\n",
       "    </tr>\n",
       "  </tbody>\n",
       "</table>\n",
       "</div>"
      ],
      "text/plain": [
       "                        mean            amax            amin\n",
       "             CURRENT_BALANCE CURRENT_BALANCE CURRENT_BALANCE\n",
       "LoanAgetype                                                 \n",
       "0-9 Months     233615.673554          562500           45000\n",
       "10-19 Months   229611.947514          720000           25018\n",
       "20-29 Months   216680.785461          729750           22500\n",
       "30-39 Months   204076.171642          546376           41705\n",
       ">=40 Months    224049.580645          729750           35000\n",
       "Unknown        256425.312500          404700           88065\n",
       "All            222725.223500          729750           22500"
      ]
     },
     "execution_count": 208,
     "metadata": {},
     "output_type": "execute_result"
    }
   ],
   "source": [
    "riskspan.pivot_table('CURRENT_BALANCE','LoanAgetype',aggfunc=[np.mean,np.max,np.min], margins = True)"
   ]
  },
  {
   "cell_type": "code",
   "execution_count": 209,
   "metadata": {},
   "outputs": [
    {
     "data": {
      "text/plain": [
       "0"
      ]
     },
     "execution_count": 209,
     "metadata": {},
     "output_type": "execute_result"
    }
   ],
   "source": [
    "riskspan.FICO_SCORE.isnull().sum()"
   ]
  },
  {
   "cell_type": "code",
   "execution_count": 210,
   "metadata": {},
   "outputs": [],
   "source": [
    "riskspan.loc[riskspan['FICO_SCORE']<600,'FICO_type'] = '<600'\n",
    "riskspan.loc[(riskspan['FICO_SCORE']>=600) & (riskspan['FICO_SCORE']<=699),'FICO_type'] = '600-699'\n",
    "riskspan.loc[(riskspan['FICO_SCORE']>700) & (riskspan['FICO_SCORE']<=799),'FICO_type'] = '700-799'\n",
    "riskspan.loc[riskspan['FICO_SCORE']>=800,'FICO_type'] = '>=800'"
   ]
  },
  {
   "cell_type": "code",
   "execution_count": 291,
   "metadata": {
    "scrolled": true
   },
   "outputs": [],
   "source": [
    "a = pd.crosstab(riskspan['LTV_type'],riskspan['FICO_type'],values =riskspan['CURRENT_BALANCE'],aggfunc = np.sum)\n",
    "a.fillna(0,inplace = True)"
   ]
  },
  {
   "cell_type": "code",
   "execution_count": 292,
   "metadata": {},
   "outputs": [
    {
     "data": {
      "text/plain": [
       "(array([0, 1, 2, 3]), <a list of 4 Text xticklabel objects>)"
      ]
     },
     "execution_count": 292,
     "metadata": {},
     "output_type": "execute_result"
    },
    {
     "data": {
      "image/png": "[encoded data removed]",
      "text/plain": [
       "<Figure size 432x288 with 1 Axes>"
      ]
     },
     "metadata": {
      "needs_background": "light"
     },
     "output_type": "display_data"
    }
   ],
   "source": [
    "import matplotlib.pyplot as plt\n",
    "a.plot(kind = 'bar')\n",
    "plt.xticks(rotation = 45)"
   ]
  }
 ],
 "metadata": {
  "kernelspec": {
   "display_name": "Python 3",
   "language": "python",
   "name": "python3"
  },
  "language_info": {
   "codemirror_mode": {
    "name": "ipython",
    "version": 3
   },
   "file_extension": ".py",
   "mimetype": "text/x-python",
   "name": "python",
   "nbconvert_exporter": "python",
   "pygments_lexer": "ipython3",
   "version": "3.7.3"
  }
 },
 "nbformat": 4,
 "nbformat_minor": 2
}
